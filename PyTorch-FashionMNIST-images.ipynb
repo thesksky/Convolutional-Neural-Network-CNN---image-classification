{
 "cells": [
  {
   "cell_type": "code",
   "execution_count": 1,
   "id": "c87d4a19",
   "metadata": {},
   "outputs": [],
   "source": [
    "import torch\n",
    "import torch.nn as nn\n",
    "import torch.optim as optim\n",
    "from torch.utils.data import DataLoader, TensorDataset\n",
    "import numpy as np\n",
    "import matplotlib.pyplot as plt"
   ]
  },
  {
   "cell_type": "code",
   "execution_count": null,
   "id": "54fda62a",
   "metadata": {},
   "outputs": [],
   "source": [
    "## Download Fashion-MNIST files from github: https://github.com/golbin/TensorFlow-MNIST/tree/master/mnist/data\n",
    "\"C:\\Users\\thesk\\eclipse-workspace\\t10k-images.idx3-ubyte\"\n",
    "\"C:\\Users\\thesk\\eclipse-workspace\\train-labels.idx1-ubyte\"\n",
    "\"C:\\Users\\thesk\\eclipse-workspace\\train-images.idx3-ubyte\"\n",
    "\"C:\\Users\\thesk\\eclipse-workspace\\t10k-labels.idx1-ubyte\""
   ]
  },
  {
   "cell_type": "code",
   "execution_count": 11,
   "id": "90376e95",
   "metadata": {},
   "outputs": [],
   "source": [
    "# Read training labels\n",
    "with open(r\"C:\\Users\\thesk\\eclipse-workspace\\train-labels.idx1-ubyte\", 'rb') as lbpath:\n",
    "    y_train = np.frombuffer(lbpath.read(), dtype=np.uint8, offset=8)\n",
    "\n",
    "# Read training images\n",
    "with open(r\"C:\\\\Users\\thesk\\eclipse-workspace\\train-images.idx3-ubyte\", 'rb') as imgpath:\n",
    "    X_train = np.frombuffer(imgpath.read(), dtype=np.uint8, offset=16).reshape(len(y_train), 28, 28)\n",
    "\n",
    "# Read test labels\n",
    "with open(r\"C:\\\\Users\\thesk\\eclipse-workspace\\t10k-labels.idx1-ubyte\", 'rb') as lbpath:\n",
    "    y_test = np.frombuffer(lbpath.read(), dtype=np.uint8, offset=8)\n",
    "\n",
    "# Read test images\n",
    "with open(r\"C:\\Users\\thesk\\eclipse-workspace\\t10k-images.idx3-ubyte\", 'rb') as imgpath:\n",
    "    X_test = np.frombuffer(imgpath.read(), dtype=np.uint8, offset=16).reshape(len(y_test), 28, 28)"
   ]
  },
  {
   "cell_type": "code",
   "execution_count": 14,
   "id": "811e8051",
   "metadata": {},
   "outputs": [
    {
     "name": "stdout",
     "output_type": "stream",
     "text": [
      "Epoch 1/5, Loss: 0.07400751858949661\n",
      "Epoch 2/5, Loss: 0.04290781542658806\n",
      "Epoch 3/5, Loss: 0.10275109112262726\n",
      "Epoch 4/5, Loss: 0.07777770608663559\n",
      "Epoch 5/5, Loss: 0.06423726677894592\n",
      "Accuracy: 95.53%\n"
     ]
    },
    {
     "ename": "RuntimeError",
     "evalue": "Numpy is not available",
     "output_type": "error",
     "traceback": [
      "\u001b[1;31m---------------------------------------------------------------------------\u001b[0m",
      "\u001b[1;31mRuntimeError\u001b[0m                              Traceback (most recent call last)",
      "Cell \u001b[1;32mIn[14], line 66\u001b[0m\n\u001b[0;32m     64\u001b[0m \u001b[38;5;28;01mfor\u001b[39;00m i \u001b[38;5;129;01min\u001b[39;00m \u001b[38;5;28mrange\u001b[39m(\u001b[38;5;241m6\u001b[39m):\n\u001b[0;32m     65\u001b[0m     ax \u001b[38;5;241m=\u001b[39m axes[i]\n\u001b[1;32m---> 66\u001b[0m     ax\u001b[38;5;241m.\u001b[39mimshow(\u001b[43mimages\u001b[49m\u001b[43m[\u001b[49m\u001b[43mi\u001b[49m\u001b[43m]\u001b[49m\u001b[38;5;241;43m.\u001b[39;49m\u001b[43mnumpy\u001b[49m\u001b[43m(\u001b[49m\u001b[43m)\u001b[49m\u001b[38;5;241m.\u001b[39msqueeze(), cmap\u001b[38;5;241m=\u001b[39m\u001b[38;5;124m'\u001b[39m\u001b[38;5;124mgray\u001b[39m\u001b[38;5;124m'\u001b[39m)\n\u001b[0;32m     67\u001b[0m     ax\u001b[38;5;241m.\u001b[39mset_title(\u001b[38;5;124mf\u001b[39m\u001b[38;5;124m\"\u001b[39m\u001b[38;5;124mPred: \u001b[39m\u001b[38;5;132;01m{\u001b[39;00mpreds[i]\u001b[38;5;241m.\u001b[39mitem()\u001b[38;5;132;01m}\u001b[39;00m\u001b[38;5;124m\"\u001b[39m)\n\u001b[0;32m     68\u001b[0m     ax\u001b[38;5;241m.\u001b[39maxis(\u001b[38;5;124m'\u001b[39m\u001b[38;5;124moff\u001b[39m\u001b[38;5;124m'\u001b[39m)\n",
      "\u001b[1;31mRuntimeError\u001b[0m: Numpy is not available"
     ]
    },
    {
     "data": {
      "image/png": "[encoded data removed]",
      "text/plain": [
       "<Figure size 1200x200 with 6 Axes>"
      ]
     },
     "metadata": {},
     "output_type": "display_data"
    }
   ],
   "source": [
    "# Convert numpy arrays to PyTorch tensors\n",
    "# PyTorch Tensors: These are multi-dimensional arrays provided by the PyTorch library, similar to NumPy arrays but optimized for deep learning tasks. \n",
    "# unsqueeze(1): Adds an extra dimension to the tensor as PyTorch expects image data to have a shape of [batch_size, channels, height, width]. For grayscale images like Fashion MNIST, channels is 1.\n",
    "X_train_tensor = torch.tensor(X_train, dtype=torch.float32).unsqueeze(1)\n",
    "y_train_tensor = torch.tensor(y_train, dtype=torch.long)\n",
    "X_test_tensor = torch.tensor(X_test, dtype=torch.float32).unsqueeze(1)\n",
    "y_test_tensor = torch.tensor(y_test, dtype=torch.long)\n",
    "\n",
    "# Create DataLoader\n",
    "# TensorDataset: This utility from PyTorch wraps PyTorch tensors into a dataset, so they can be accessed like a regular dataset object.\n",
    "# X_train_tensor, y_train_tensor, X_test_tensor, y_test_tensor: PyTorch tensors containing the training and testing data and labels, respectively.\n",
    "# X_train_tensor and X_test_tensor contain the features (e.g., images, numerical data, etc.).\n",
    "#y_train_tensor and y_test_tensor contain the labels (e.g., the class or target values for each sample).\n",
    "train_dataset = TensorDataset(X_train_tensor, y_train_tensor)\n",
    "test_dataset = TensorDataset(X_test_tensor, y_test_tensor)\n",
    "\n",
    "train_loader = DataLoader(train_dataset, batch_size=64, shuffle=True)\n",
    "test_loader = DataLoader(test_dataset, batch_size=64, shuffle=False)\n",
    "\n",
    "print(pytorch_tensor) #Displays the PyTorch tensor\n",
    "\n",
    "# Define a simple neural network\n",
    "class SimpleNN(nn.Module):\n",
    "    def __init__(self):\n",
    "        super(SimpleNN, self).__init__()\n",
    "        self.fc1 = nn.Linear(28*28, 128)\n",
    "        self.fc2 = nn.Linear(128, 64)\n",
    "        self.fc3 = nn.Linear(64, 10)\n",
    "\n",
    "    def forward(self, x):\n",
    "        x = x.view(-1, 28*28)\n",
    "        x = torch.relu(self.fc1(x))\n",
    "        x = torch.relu(self.fc2(x))\n",
    "        x = self.fc3(x)\n",
    "        return x\n",
    "\n",
    "# Initialize the model, loss function, and optimizer\n",
    "model = SimpleNN()\n",
    "criterion = nn.CrossEntropyLoss()\n",
    "optimizer = optim.Adam(model.parameters(), lr=0.001)\n",
    "\n",
    "# Train the model\n",
    "epochs = 5\n",
    "for epoch in range(epochs):\n",
    "    for images, labels in train_loader:\n",
    "        optimizer.zero_grad()\n",
    "        output = model(images)\n",
    "        loss = criterion(output, labels)\n",
    "        loss.backward()\n",
    "        optimizer.step()\n",
    "    print(f\"Epoch {epoch+1}/{epochs}, Loss: {loss.item()}\")\n",
    "\n",
    "# Evaluate the model\n",
    "correct = 0\n",
    "total = 0\n",
    "with torch.no_grad():\n",
    "    for images, labels in test_loader:\n",
    "        output = model(images)\n",
    "        _, predicted = torch.max(output, 1)\n",
    "        total += labels.size(0)\n",
    "        correct += (predicted == labels).sum().item()\n",
    "\n",
    "print(f\"Accuracy: {100 * correct / total}%\")\n",
    "\n",
    "# Visualize some predictions\n",
    "dataiter = iter(test_loader)\n",
    "images, labels = next(dataiter)  # Use next() function\n",
    "output = model(images)\n",
    "_, preds = torch.max(output, 1)\n",
    "\n",
    "fig, axes = plt.subplots(1, 6, figsize=(12, 2))\n",
    "for i in range(6):\n",
    "    ax = axes[i]\n",
    "    ax.imshow(images[i].numpy().squeeze(), cmap='gray')\n",
    "    ax.set_title(f\"Pred: {preds[i].item()}\")\n",
    "    ax.axis('off')\n",
    "plt.show()"
   ]
  },
  {
   "cell_type": "code",
   "execution_count": 4,
   "id": "696cf95c",
   "metadata": {},
   "outputs": [
    {
     "name": "stdout",
     "output_type": "stream",
     "text": [
      "1.21.5\n"
     ]
    }
   ],
   "source": [
    "import numpy as np\n",
    "print(np.__version__)"
   ]
  },
  {
   "cell_type": "code",
   "execution_count": null,
   "id": "53b9fa35",
   "metadata": {},
   "outputs": [],
   "source": []
  }
 ],
 "metadata": {
  "kernelspec": {
   "display_name": "Python 3 (ipykernel)",
   "language": "python",
   "name": "python3"
  },
  "language_info": {
   "codemirror_mode": {
    "name": "ipython",
    "version": 3
   },
   "file_extension": ".py",
   "mimetype": "text/x-python",
   "name": "python",
   "nbconvert_exporter": "python",
   "pygments_lexer": "ipython3",
   "version": "3.8.18"
  }
 },
 "nbformat": 4,
 "nbformat_minor": 5
}
